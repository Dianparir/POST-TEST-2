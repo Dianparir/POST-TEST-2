{
  "nbformat": 4,
  "nbformat_minor": 0,
  "metadata": {
    "colab": {
      "name": "Perulangan_Post test 3",
      "provenance": [],
      "collapsed_sections": [],
      "authorship_tag": "ABX9TyP9Z+Kvbf4RaacH+eVKyRZD",
      "include_colab_link": true
    },
    "kernelspec": {
      "name": "python3",
      "display_name": "Python 3"
    }
  },
  "cells": [
    {
      "cell_type": "markdown",
      "metadata": {
        "id": "view-in-github",
        "colab_type": "text"
      },
      "source": [
        "<a href=\"https://colab.research.google.com/github/Dianparir/POST-TEST-2/blob/main/Perulangan_Post_test_3.ipynb\" target=\"_parent\"><img src=\"https://colab.research.google.com/assets/colab-badge.svg\" alt=\"Open In Colab\"/></a>"
      ]
    },
    {
      "cell_type": "code",
      "metadata": {
        "colab": {
          "base_uri": "https://localhost:8080/"
        },
        "id": "1NDTA2K0-xMq",
        "outputId": "f83c988b-3471-468a-eb64-5ae05c9a9e85"
      },
      "source": [
        "print(\"Nana pergi jalan untuk membeli Tokoyaki.\\nSesampainya di kedai Tokoyaki,\\n\")\n",
        "print(\"---Selamat Datang di kedai Tokoyaki---\\n\")\n",
        "print(\"Kedai kami menyediakan 2 varian isi:\\nVarian 1: Rp 2000/pcs\\nVarian 2: Rp 2500/pcs\\n\")\n",
        "print(\"LIMITED!!!\\nVarian 1 hanya sebanyak 45 pcs\\nVarian 2 hanya sebanyak 40 pcs\\n\")\n",
        "pilihan = int(input(\"Varian apa yang akan Anda beli? : \"))\n",
        "\n",
        "if pilihan == 1:\n",
        "  harga = 2000\n",
        "  jumlah = int(input(\"Berapa banyak Tokoyaki yang ingin Anda beli? : \"))\n",
        "\n",
        "  if jumlah < 10:\n",
        "    beli = harga * jumlah\n",
        "    print(\"Hargasemuanya = Rp \", beli)\n",
        "\n",
        "  elif jumlah <= 45:\n",
        "    beli = (harga - (harga * (10/100))) * jumlah\n",
        "    print(\"Hargasemuanya = Rp \", beli)\n",
        "\n",
        "  elif jumlah > 45:\n",
        "    print(\"Mohon maaf, kami tidak memiliki jumlah tokoyaki sebanyak itu hari ini\")\n",
        "  \n",
        "  else:\n",
        "    ()\n",
        "\n",
        "elif pilihan == 2:\n",
        "  harga = 2500\n",
        "  jumlah = int(input(\"Berapa banyak Tokoyaki yang ingin Anda beli? : \"))\n",
        "\n",
        "  if jumlah < 8:\n",
        "    beli = harga * jumlah\n",
        "    print(\"Harga = Rp \", beli)\n",
        "\n",
        "  elif jumlah <= 40:\n",
        "    beli = (harga - (harga * (8/100))) * jumlah\n",
        "    print(\"Harga = Rp \", beli)\n",
        "\n",
        "  elif jumlah > 40:\n",
        "    print(\"Mohon maaf, kami tidak memiliki jumlah tokoyaki sebanyak itu hari ini\")\n",
        "\n",
        "  else:\n",
        "    ()\n",
        "\n",
        "print(\"\\n ---Terima kasih banyak---\")\n",
        "print(\"---Silahkan Datang kembali---\")"
      ],
      "execution_count": 16,
      "outputs": [
        {
          "output_type": "stream",
          "text": [
            "Nana pergi jalan untuk membeli Tokoyaki.\n",
            "Sesampainya di kedai Tokoyaki,\n",
            "\n",
            "---Selamat Datang di kedai Tokoyaki---\n",
            "\n",
            "Kedai kami menyediakan 2 varian isi:\n",
            "Varian 1: Rp 2000/pcs\n",
            "Varian 2: Rp 2500/pcs\n",
            "\n",
            "LIMITED!!!\n",
            "Varian 1 hanya sebanyak 45 pcs\n",
            "Varian 2 hanya sebanyak 40 pcs\n",
            "\n",
            "Varian apa yang akan Anda beli? : 2\n",
            "Berapa banyak Tokoyaki yang ingin Anda beli? : 34\n",
            "Harga = Rp  78200.0\n",
            "\n",
            " ---Terima kasih banyak---\n",
            "---Silahkan Datang kembali---\n"
          ],
          "name": "stdout"
        }
      ]
    },
    {
      "cell_type": "code",
      "metadata": {
        "colab": {
          "base_uri": "https://localhost:8080/"
        },
        "id": "XrZD4F6sHnoD",
        "outputId": "90fa3be2-73f6-4177-963d-f67d747b989d"
      },
      "source": [
        "N = int(input(\"Masukkan nilai N : \"))\n",
        "for x in range(N):\n",
        "  if (10**x > N):\n",
        "    break\n",
        "  else:\n",
        "    print(\"Sedang menghitung...\")\n",
        "print(\"Nilai =\", 10** N)"
      ],
      "execution_count": 34,
      "outputs": [
        {
          "output_type": "stream",
          "text": [
            "Masukkan nilai N : 18\n",
            "Sedang menghitung...\n",
            "Sedang menghitung...\n",
            "Nilai = 1000000000000000000\n"
          ],
          "name": "stdout"
        }
      ]
    }
  ]
}